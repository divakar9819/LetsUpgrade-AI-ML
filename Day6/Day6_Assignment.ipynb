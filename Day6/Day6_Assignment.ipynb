{
 "cells": [
  {
   "cell_type": "markdown",
   "metadata": {},
   "source": [
    "# Day6_Assignment_Solution"
   ]
  },
  {
   "cell_type": "raw",
   "metadata": {},
   "source": [
    "Question 1:\n",
    "Assuming that we have some email addresses in the \"username@companyname.com\" format, please write program\n",
    "to print the company name of a given email address. Both user names and company names are composed of letters\n",
    "only.\n",
    "Input Format:\n",
    "The first line of the input contains an email address.\n",
    "Output Format:\n",
    "Print the company name in single line.\n",
    "Example;\n",
    "Input:\n",
    "john@google.com\n",
    "Output:\n",
    "google\n",
    "Question 2:"
   ]
  },
  {
   "cell_type": "code",
   "execution_count": 9,
   "metadata": {},
   "outputs": [
    {
     "name": "stdout",
     "output_type": "stream",
     "text": [
      "Enter your Email Addressjohn@google.com\n",
      "google\n"
     ]
    }
   ],
   "source": [
    "com_name = input(\"Enter your Email Address\")\n",
    "\n",
    "#removing the @ symbol\n",
    "name_remove = com_name.split(\"@\")\n",
    "\n",
    "#removing . symbol from the list\n",
    "name_remove_1 = name_remove[1].split(\".\")\n",
    "print(name_remove_1[0])"
   ]
  },
  {
   "cell_type": "raw",
   "metadata": {},
   "source": [
    "Question 2:\n",
    "Write a program that accepts a comma-separated sequence of words as input and prints the words in a comma\n",
    "separated sequence after sorting them alphabetically.\n",
    "Input Format:\n",
    "The first line of input contains words separated by the comma.\n",
    "Output Format:\n",
    "Print the sorted words separated by the comma.\n",
    "Example:\n",
    "Input:\n",
    "without,hello,bag,world\n",
    "Output:\n",
    "bag,hello,without,world"
   ]
  },
  {
   "cell_type": "code",
   "execution_count": 19,
   "metadata": {},
   "outputs": [
    {
     "name": "stdout",
     "output_type": "stream",
     "text": [
      "How many word you want to. \n",
      "4\n",
      "Enter the word : without\n",
      "Enter the word : hello\n",
      "Enter the word : bag\n",
      "Enter the word : world\n",
      "['bag', 'hello', 'without', 'world']\n"
     ]
    }
   ],
   "source": [
    "l = []\n",
    "print(\"How many word you want to. \")\n",
    "a = int(input())\n",
    "for i in range(a):\n",
    "    word = input(\"Enter the word : \")\n",
    "    l.append(word)\n",
    "    \n",
    "l.sort()\n",
    "print(l)"
   ]
  },
  {
   "cell_type": "raw",
   "metadata": {},
   "source": [
    "Question 3:\n",
    "Create your own Jupyter Notebook for Sets.\n",
    "Reference link: https://www.w3schools.com/python/python_sets.asp"
   ]
  },
  {
   "cell_type": "code",
   "execution_count": 37,
   "metadata": {},
   "outputs": [
    {
     "name": "stdout",
     "output_type": "stream",
     "text": [
      "{'c', 'a', 'b'}\n",
      "{1, 2, 3, 4, 5}\n",
      "<class 'set'>\n",
      "c\n",
      "a\n",
      "b\n",
      "{'c', 'a', 'd', 'b'}\n",
      "{'c', 'a', 'd', 'b'}\n",
      "{'c', 'a', 'b'}\n",
      "{'a', 'b'}\n",
      "{'a', 'b'}\n",
      "set()\n"
     ]
    }
   ],
   "source": [
    "#create a set\n",
    "set1 = {'a','b','c'}\n",
    "print(set1)\n",
    "set2 = {1,2,3,4,5}\n",
    "print(set2)\n",
    "print(type(set1))\n",
    "\n",
    "#access element from set\n",
    "for s in set1:\n",
    "    print(s)\n",
    "\n",
    "# add element in the set\n",
    "set1.add('d')\n",
    "print(set1)\n",
    "\n",
    "#update element set\n",
    "#set1.update(set2)\n",
    "print(set1)\n",
    "\n",
    "#remove and discard function both remove element from set \n",
    "#but discard does not give error if element is not present \n",
    "set1.remove('d')\n",
    "set1.discard('hello')\n",
    "print(set1)\n",
    "#remove last element from set\n",
    "set1.pop()\n",
    "print(set1)\n",
    "\n",
    "#join to set\n",
    "set3 = set1.union(set1)\n",
    "print(set3)\n",
    "\n",
    "#remove all element\n",
    "set1.clear()\n",
    "print(set1)"
   ]
  },
  {
   "cell_type": "raw",
   "metadata": {},
   "source": [
    "Question 4:\n",
    "Given a list of n-1 numbers ranging from 1 to n, your task is to find the missing number. There are no duplicates.\n",
    "Input Format:\n",
    "The first line contains n-1 numbers with each number separated by a space.\n",
    "Output Format:\n",
    "Print the missing number\n",
    "Example:\n",
    "Input:1 2 4 6 3 7 8\n",
    "Output:5\n"
   ]
  },
  {
   "cell_type": "code",
   "execution_count": 45,
   "metadata": {},
   "outputs": [
    {
     "name": "stdout",
     "output_type": "stream",
     "text": [
      "How many  number you want to enter : 8\n",
      "Enter n-1 numbers\n",
      "Enter 1 number 1\n",
      "Enter 2 number 2\n",
      "Enter 3 number 3\n",
      "Enter 4 number 4\n",
      "Enter 5 number 6\n",
      "Enter 6 number 7\n",
      "Enter 7 number 8\n",
      "The missing number is 5 \n"
     ]
    }
   ],
   "source": [
    "n = int(input(\"How many  number you want to enter : \"))\n",
    "n_number_sum = (n*(n+1))/2\n",
    "l = []\n",
    "print(\"Enter n-1 numbers\")\n",
    "for i in range(n-1):\n",
    "    num = int(input(\"Enter \"+str(i+1)+\" number \"))\n",
    "    l.append(num)\n",
    "    s = sum(l)\n",
    "missing_number = int((n_number_sum - s))\n",
    "print(\"The missing number is {} \".format(missing_number))\n"
   ]
  },
  {
   "cell_type": "code",
   "execution_count": 46,
   "metadata": {},
   "outputs": [
    {
     "name": "stdout",
     "output_type": "stream",
     "text": [
      "How many  number you want to enter : 8\n",
      "Enter n-1 numbers\n",
      "Enter 1 number 1\n",
      "Enter 2 number 2\n",
      "Enter 3 number 3\n",
      "Enter 4 number 4\n",
      "Enter 5 number 6\n",
      "Enter 6 number 7\n",
      "Enter 7 number 8\n",
      "The missing number is 5 \n"
     ]
    }
   ],
   "source": [
    "def missing_number():\n",
    "    n = int(input(\"How many  number you want to enter : \"))\n",
    "    n_number_sum = (n*(n+1))/2\n",
    "    l = []\n",
    "    print(\"Enter n-1 numbers\")\n",
    "    for i in range(n-1):\n",
    "        num = int(input(\"Enter \"+str(i+1)+\" number \"))\n",
    "        l.append(num)\n",
    "        s = sum(l)\n",
    "    missing_number = int((n_number_sum - s))\n",
    "    print(\"The missing number is {} \".format(missing_number))\n",
    "\n",
    "missing_number()"
   ]
  },
  {
   "cell_type": "raw",
   "metadata": {},
   "source": [
    "Question 5:\n",
    "With a given list L, write a program to print this list L after removing all duplicate values with original order reserved.\n",
    "Example:\n",
    "If the input list is\n",
    "12 24 35 24 88 120 155 88 120 155\n",
    "Then the output should be\n",
    "12 24 35 88 120 155"
   ]
  },
  {
   "cell_type": "code",
   "execution_count": 60,
   "metadata": {},
   "outputs": [
    {
     "name": "stdout",
     "output_type": "stream",
     "text": [
      "How many number you want to enter 5\n",
      "Enter the number  1\n",
      "Enter the number  2\n",
      "Enter the number  3\n",
      "Enter the number  3\n",
      "Enter the number  3\n",
      "[1, 2, 3]\n"
     ]
    }
   ],
   "source": [
    "def remove_duplicate(duplicate):\n",
    "    my_list = []\n",
    "    for dip in duplicate:\n",
    "        if dip not in my_list:\n",
    "            my_list.append(dip)\n",
    "    return my_list\n",
    "\n",
    "#l = [12 ,24 ,35 ,24 ,88, 120, 155, 88, 120, 155]\n",
    "n = int(input(\"How many number you want to enter \"))\n",
    "l = []\n",
    "for i in range(n):\n",
    "    num = int(input(\"Enter the number  \"))\n",
    "    l.append(num)\n",
    "print(remove_duplicate(l))"
   ]
  },
  {
   "cell_type": "code",
   "execution_count": null,
   "metadata": {},
   "outputs": [],
   "source": []
  }
 ],
 "metadata": {
  "kernelspec": {
   "display_name": "Python 3",
   "language": "python",
   "name": "python3"
  },
  "language_info": {
   "codemirror_mode": {
    "name": "ipython",
    "version": 3
   },
   "file_extension": ".py",
   "mimetype": "text/x-python",
   "name": "python",
   "nbconvert_exporter": "python",
   "pygments_lexer": "ipython3",
   "version": "3.7.4"
  }
 },
 "nbformat": 4,
 "nbformat_minor": 2
}
