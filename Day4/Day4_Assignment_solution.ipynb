{
 "cells": [
  {
   "cell_type": "markdown",
   "metadata": {},
   "source": [
    "# Day_4_Assignment_Solution"
   ]
  },
  {
   "cell_type": "markdown",
   "metadata": {},
   "source": [
    "__Question 1__ : Research on whether addition, subtraction, multiplication, division, floor division and modulo operations be performed on complex numbers. Based on your study, implement a Python program to demonstrate these operations. \n",
    " "
   ]
  },
  {
   "cell_type": "markdown",
   "metadata": {},
   "source": [
    "The form of a + ib is known as complex number. Where a is known as real number\n",
    "and b is known as imaginary number.\n",
    "We can perform various operation on complex number listed below:\n",
    "Let : If z1 = a + ib and z2 = c + id are two complex number \n",
    "    1. Addition\n",
    "    z = z1 + z2\n",
    "    z = (a + ib) + (c + id) = (a + c) + i(b + d)\n",
    "    \n",
    "    2.Subtraction\n",
    "    z = z1 - z2\n",
    "    z = (a + ib) – (c + id) = (a – c) + i(b – d)\n",
    "    \n",
    "    3.Multiplication\n",
    "    z = z1 * z2\n",
    "    z = (a + ib). (c + id) = (ac – bd) + i(ad + bc)\n",
    "    \n",
    "    4. Division\n",
    "    z = z1/z2\n",
    "    z = (a + ib) / (c + id) = (ac+bd)/ (c2 + d2) + i(bc – ad) / (c2 + d2)\n",
    "    \n",
    "__Note : We can not perform floor division and modulo operation on complex number__\n"
   ]
  },
  {
   "cell_type": "code",
   "execution_count": 8,
   "metadata": {},
   "outputs": [
    {
     "name": "stdout",
     "output_type": "stream",
     "text": [
      "Addition of (5+7j) and (4+9j) is : (9+16j)\n",
      "Subtraction of (5+7j) and (4+9j) is : (1-2j)\n",
      "Multiplication of (5+7j) and (4+9j) is : (-43+73j)\n",
      "Devision of (5+7j) and (4+9j) is : (0.8556701030927834-0.1752577319587629j)\n"
     ]
    }
   ],
   "source": [
    "z1 = complex(5 , 7)\n",
    "z2 = complex(4 , 9)\n",
    "# Addition\n",
    "print(\"Addition of {} and {} is : {}\".format(z1,z2,z1+z2))\n",
    "\n",
    "# Subtraction\n",
    "print(\"Subtraction of {} and {} is : {}\".format(z1,z2,z1-z2))\n",
    "\n",
    "# Multiplication\n",
    "print(\"Multiplication of {} and {} is : {}\".format(z1,z2,z1*z2))\n",
    "\n",
    "# Devision\n",
    "print(\"Devision of {} and {} is : {}\".format(z1,z2,z1/z2))\n",
    "\n",
    "\n"
   ]
  },
  {
   "cell_type": "markdown",
   "metadata": {},
   "source": [
    "__Question 2__ : Research on range() functions and its parameters. Create a markdown cell and write in your own words (no copy-paste from google please) what you understand about it. Implement a small program of your choice on the same. "
   ]
  },
  {
   "cell_type": "markdown",
   "metadata": {},
   "source": [
    "__range() function__ :\n",
    "    __1.__range() is a built-in function of Python.\n",
    "    __2.__The range() function is used to generate a sequence of numbers. \n",
    "    __3.__range() is commonly used in for looping.\n",
    "    __4.__ range() takes mainly three arguments.\n",
    "    a. __start__: integer starting from which the sequence of integers is to be returned\n",
    "    b. __stop__: integer before which the sequence of integers is to be returned.\n",
    "    __The range of integers end at stop – 1.__\n",
    "    c.__step__: integer value which determines the increment between each integer in the sequence\n",
    "    __5.__Most common use of range() function in Python is to iterate sequence type (List, string etc.. ) with for and while loop.    "
   ]
  },
  {
   "cell_type": "code",
   "execution_count": 13,
   "metadata": {},
   "outputs": [
    {
     "name": "stdout",
     "output_type": "stream",
     "text": [
      "0 1 2 3 4 5 6 7 8 9 \n",
      "10 20 30 40 \n",
      "Sum of first 10 natural number : 55\n",
      "2 4 6 8 10 12 14 16 18 20 22 24 26 28 30 32 34 36 38 40 42 44 46 48 50 52 54 56 58 60 62 64 66 68 70 72 74 76 78 80 82 84 86 88 90 92 94 96 98 "
     ]
    }
   ],
   "source": [
    "# printing a number \n",
    "for i in range(10): \n",
    "    print(i, end =\" \") \n",
    "print()\n",
    "  \n",
    "# using range for iteration \n",
    "l = [10, 20, 30, 40] \n",
    "for i in range(len(l)): \n",
    "    print(l[i], end =\" \") \n",
    "print()    \n",
    "  \n",
    "# performing sum of natural number \n",
    "sum = 0\n",
    "for i in range(1, 11): \n",
    "    sum = sum + i \n",
    "print(\"Sum of first 10 natural number :\", sum) \n",
    "\n",
    "#range function with three arguments\n",
    "for i in range(2,100 , 2):\n",
    "    print(i,end=\" \")"
   ]
  },
  {
   "cell_type": "markdown",
   "metadata": {},
   "source": [
    "__Question 3:__  Consider two numbers. Perform their subtraction and if the result of subtraction is greater than 25, print their multiplication result else print their division result. "
   ]
  },
  {
   "cell_type": "code",
   "execution_count": 15,
   "metadata": {},
   "outputs": [
    {
     "name": "stdout",
     "output_type": "stream",
     "text": [
      "Enter first number1\n",
      "Enter second number12\n",
      "Devision of 1 and 12 is : 0.08333333333333333\n"
     ]
    }
   ],
   "source": [
    "a = int(input(\"Enter first number\"))\n",
    "b = int(input(\"Enter second number\"))\n",
    "if((a-b) > 25):\n",
    "    print(\"Multiplication of {} and {} is : {}\".format(a,b,a*b))\n",
    "    \n",
    "else:\n",
    "    print(\"Devision of {} and {} is : {}\".format(a,b,a/b))\n",
    "    \n",
    "    "
   ]
  },
  {
   "cell_type": "markdown",
   "metadata": {},
   "source": [
    "__Question 4:__ Consider a list of 10 elements of integer values. If the number in the list is divisible by 2, print the result as \"square of that number minus 2\". \n",
    " "
   ]
  },
  {
   "cell_type": "code",
   "execution_count": 20,
   "metadata": {},
   "outputs": [
    {
     "name": "stdout",
     "output_type": "stream",
     "text": [
      "square of 10  minus 2 is 98\n",
      "square of 16  minus 2 is 254\n",
      "square of 18  minus 2 is 322\n",
      "square of 20  minus 2 is 398\n",
      "square of 22  minus 2 is 482\n",
      "square of 24  minus 2 is 574\n"
     ]
    }
   ],
   "source": [
    "l = [10,13,15,16,18,20,21,22,23,24]\n",
    "for i in l:\n",
    "    if i%2==0:\n",
    "        print(\"square of {}  minus 2 is {}\".format(i,i**2 - 2))"
   ]
  },
  {
   "cell_type": "markdown",
   "metadata": {},
   "source": [
    "__Question 5:__ Consider a list of 10 elements. Print all the elements in the list which are greater than 7 when that number is divided 2. "
   ]
  },
  {
   "cell_type": "code",
   "execution_count": 24,
   "metadata": {},
   "outputs": [
    {
     "name": "stdout",
     "output_type": "stream",
     "text": [
      "10\n",
      "The number is greater than 7 and divided by 2 is 18\n",
      "The number is greater than 7 and divided by 2 is 20\n",
      "The number is greater than 7 and divided by 2 is 22\n"
     ]
    }
   ],
   "source": [
    "l = [2,4,5,7,9,18,20,21,22,23]\n",
    "print(len(l))\n",
    "for i in l:\n",
    "    if i > 7 and i%2==0:\n",
    "        print(\"The number is greater than 7 and divided by 2 is {}\".format(i))"
   ]
  },
  {
   "cell_type": "code",
   "execution_count": null,
   "metadata": {},
   "outputs": [],
   "source": []
  }
 ],
 "metadata": {
  "kernelspec": {
   "display_name": "Python 3",
   "language": "python",
   "name": "python3"
  },
  "language_info": {
   "codemirror_mode": {
    "name": "ipython",
    "version": 3
   },
   "file_extension": ".py",
   "mimetype": "text/x-python",
   "name": "python",
   "nbconvert_exporter": "python",
   "pygments_lexer": "ipython3",
   "version": "3.7.4"
  }
 },
 "nbformat": 4,
 "nbformat_minor": 2
}
