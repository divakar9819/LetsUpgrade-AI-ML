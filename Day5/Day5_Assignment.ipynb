{
 "cells": [
  {
   "cell_type": "markdown",
   "metadata": {},
   "source": [
    "# Day_5_Assignment_Solution"
   ]
  },
  {
   "cell_type": "markdown",
   "metadata": {},
   "source": [
    "__Question 1 :__ Write a Python program to find the first 20 non-even prime natural numbers. "
   ]
  },
  {
   "cell_type": "code",
   "execution_count": 31,
   "metadata": {},
   "outputs": [
    {
     "name": "stdout",
     "output_type": "stream",
     "text": [
      "First 20 Non enven prime number is : \n",
      "3\t5\t7\t11\t13\t17\t19\t"
     ]
    }
   ],
   "source": [
    "import math\n",
    "def non_even_prime(num):\n",
    "    l = []\n",
    "    for i in range(num*num):\n",
    "        l.append(i)\n",
    "    l[1] = 0\n",
    "    \n",
    "    for i in range(2,num):\n",
    "        l[i] = 1\n",
    "        \n",
    "    for i in range(2,int(math.sqrt(num))):\n",
    "        if l[i] == 1:\n",
    "            j = i*i\n",
    "            while(j<=num):\n",
    "                l[j] = 0\n",
    "                j = j+i\n",
    "     \n",
    "    print(\"First 20 Non enven prime number is : \")\n",
    "    for i in range(3,num):\n",
    "        if l[i] == 1:\n",
    "            print(i,end=\"\\t\")\n",
    "        \n",
    "        \n",
    "            \n",
    "non_even_prime(20)\n",
    "    \n",
    "    "
   ]
  },
  {
   "cell_type": "markdown",
   "metadata": {},
   "source": [
    "__Question 2 :__ Write a Python program to implement 15 functions of string. "
   ]
  },
  {
   "cell_type": "code",
   "execution_count": 49,
   "metadata": {},
   "outputs": [
    {
     "name": "stdout",
     "output_type": "stream",
     "text": [
      "Python is awesomeProgramming language\n",
      "emosewa si nohtyP\n",
      "pYTHON IS AWESOME\n",
      "python is awesome\n",
      "PYTHON IS AWESOME\n",
      "False\n",
      "Python is awesome\n",
      "17\n",
      "-1\n",
      "-1\n",
      "P\n",
      "y\n",
      "t\n",
      "h\n",
      "o\n",
      "n\n",
      " \n",
      "i\n",
      "s\n",
      " \n",
      "a\n",
      "w\n",
      "e\n",
      "s\n",
      "o\n",
      "m\n",
      "e\n",
      "python is awesome\n",
      "False\n",
      "Centered String:  ***Python is awesome****\n",
      "True\n",
      "False\n",
      "False\n",
      "False\n",
      "True\n",
      "False\n",
      "False\n"
     ]
    }
   ],
   "source": [
    "s1 = \"Python is awesome\"\n",
    "s2 = \"Programming language\"\n",
    "#concatination of two string\n",
    "print(s1+s2)\n",
    "\n",
    "#reverse of string\n",
    "print(s1[::-1])\n",
    "\n",
    "#swap case operation\n",
    "print(s1.swapcase())\n",
    "\n",
    "#change all character in lower case\n",
    "print(s1.lower())\n",
    "\n",
    "#change all character in upper case\n",
    "print(s1.upper())\n",
    "\n",
    "#check weather all string is character or not\n",
    "print(s1.isalpha())\n",
    "\n",
    "#replacement operation \n",
    "print(s1.replace('l','z'))\n",
    "\n",
    "#find the length of string\n",
    "print(len(s1))\n",
    "\n",
    "#find specific word in string\n",
    "print(s1.find('W'))\n",
    "\n",
    "#find specific word in  between the given index of string\n",
    "print(s1.find('o',2,4))  \n",
    "\n",
    "#looping in string\n",
    "for i in s1:\n",
    "    print(i)\n",
    "    \n",
    "print(s1.casefold())\n",
    "\n",
    "print(s1.isdigit())\n",
    "\n",
    "#center function\n",
    "new_string = s1.center(24, '*')\n",
    "\n",
    "print(\"Centered String: \", new_string)\n",
    "\n",
    "#isidentifier() function\n",
    "str = 'Python'\n",
    "print(str.isidentifier())\n",
    "\n",
    "str = 'Py thon'\n",
    "print(str.isidentifier())\n",
    "\n",
    "str = '22Python'\n",
    "print(str.isidentifier())\n",
    "\n",
    "str = ''\n",
    "print(str.isidentifier())\n",
    "\n",
    "\n",
    "#isdecimal()\n",
    "s = \"28212\"\n",
    "print(s.isdecimal())\n",
    "\n",
    "# contains alphabets\n",
    "s = \"32ladk3\"\n",
    "print(s.isdecimal())\n",
    "\n",
    "# contains alphabets and spaces\n",
    "s = \"Mo3 nicaG el l22er\"\n",
    "print(s.isdecimal())"
   ]
  },
  {
   "cell_type": "markdown",
   "metadata": {},
   "source": [
    "__Question 3:__ Write a Python program to check if the given string is a Palindrome or Anagram or None of them. Display the message accordingly to the user. \n",
    " "
   ]
  },
  {
   "cell_type": "code",
   "execution_count": 24,
   "metadata": {},
   "outputs": [
    {
     "name": "stdout",
     "output_type": "stream",
     "text": [
      "The  string is Palindrome\n"
     ]
    }
   ],
   "source": [
    "def Palindrome_Anagram(s1,s2):\n",
    "    if(s1 == s1[::-1] and s2 == s2[::-1]):\n",
    "        print(\"The  string is Palindrome\")\n",
    "       \n",
    "    elif(sorted(s1)== sorted(s2)): \n",
    "        print(\"The strings are anagrams.\") \n",
    "    else: \n",
    "        print(\"None.\")\n",
    "        \n",
    "        \n",
    "    \n",
    "s1 =\"aabaa\"\n",
    "s2 = \"aabaa\"\n",
    "Palindrome_Anagram(s1,s2)"
   ]
  },
  {
   "cell_type": "markdown",
   "metadata": {},
   "source": [
    "__Question 4:__ Write a Python's user defined function that removes all the additional characters from the string and converts it finally to lower case using built-in lower(). eg: If the string is \"Dr. Darshan Ingle @AI-ML Trainer\", then the output be \"drdarshaningleaimltrainer\". "
   ]
  },
  {
   "cell_type": "code",
   "execution_count": 17,
   "metadata": {},
   "outputs": [
    {
     "name": "stdout",
     "output_type": "stream",
     "text": [
      "drdarshaningleaimltrainer\n"
     ]
    }
   ],
   "source": [
    "def remove_character(s):\n",
    "    additional_space = ['.','@',' ','-',';','?']\n",
    "    for i in additional_space:\n",
    "        s = s.replace(i,'')\n",
    "    return s.lower()\n",
    "\n",
    "print(remove_character(\"Dr. Darshan Ingle @AI-ML Trainer\"))"
   ]
  },
  {
   "cell_type": "code",
   "execution_count": null,
   "metadata": {},
   "outputs": [],
   "source": []
  }
 ],
 "metadata": {
  "kernelspec": {
   "display_name": "Python 3",
   "language": "python",
   "name": "python3"
  },
  "language_info": {
   "codemirror_mode": {
    "name": "ipython",
    "version": 3
   },
   "file_extension": ".py",
   "mimetype": "text/x-python",
   "name": "python",
   "nbconvert_exporter": "python",
   "pygments_lexer": "ipython3",
   "version": "3.7.4"
  }
 },
 "nbformat": 4,
 "nbformat_minor": 2
}
