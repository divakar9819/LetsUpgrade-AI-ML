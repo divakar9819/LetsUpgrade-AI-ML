{
 "cells": [
  {
   "cell_type": "markdown",
   "metadata": {},
   "source": [
    "# Day_3_Assignment_Solution"
   ]
  },
  {
   "cell_type": "markdown",
   "metadata": {},
   "source": [
    "Question 1 : Write a program to subtract two complex numbers in Python. "
   ]
  },
  {
   "cell_type": "code",
   "execution_count": 12,
   "metadata": {},
   "outputs": [
    {
     "name": "stdout",
     "output_type": "stream",
     "text": [
      "Subtraction of (6+5j) and (5+4j) is (1+1j) :\n"
     ]
    }
   ],
   "source": [
    "def subtract_complex(z1 , z2):\n",
    "    return z1 - z2\n",
    "\n",
    "z1 = complex(6,5)\n",
    "z2 = complex(5,4)\n",
    "sub = subtract_complex(z1 , z2)\n",
    "print(\"Subtraction of {} and {} is {} :\".format(z1 , z2 , sub))"
   ]
  },
  {
   "cell_type": "markdown",
   "metadata": {},
   "source": [
    "Question 2 : Write a program to find the fourth root of a number. "
   ]
  },
  {
   "cell_type": "code",
   "execution_count": 13,
   "metadata": {},
   "outputs": [
    {
     "name": "stdout",
     "output_type": "stream",
     "text": [
      "Enter the number you want to fourth root56\n",
      "Fourth root of 56 is 2.7355647997347607 \n"
     ]
    }
   ],
   "source": [
    "a = int(input(\"Enter the number you want to fourth root\"))\n",
    "\n",
    "fourth_root = a**(1/4)\n",
    "print(\"Fourth root of {} is {} \".format(a , fourth_root))"
   ]
  },
  {
   "cell_type": "markdown",
   "metadata": {},
   "source": [
    "Question 3: Write a program to swap two numbers in Python with the help of a temporary variable. "
   ]
  },
  {
   "cell_type": "code",
   "execution_count": 17,
   "metadata": {},
   "outputs": [
    {
     "name": "stdout",
     "output_type": "stream",
     "text": [
      "Enter first number2\n",
      "Enter second number3\n",
      "Before swaping the value of a is 2 and b is 3\n",
      "After swaping the value of a is  and b is  (3, 2)\n"
     ]
    }
   ],
   "source": [
    "def swap_number(a , b):\n",
    "    temp = a\n",
    "    a = b\n",
    "    b = temp\n",
    "    return a , b\n",
    "\n",
    "a = int(input(\"Enter first number\"))\n",
    "b = int(input(\"Enter second number\"))\n",
    "\n",
    "print(\"Before swaping the value of a is {} and b is {}\".format(a,b))\n",
    "print(\"After swaping the value of a is  and b is \",swap_number(a,b))\n",
    "\n"
   ]
  },
  {
   "cell_type": "markdown",
   "metadata": {},
   "source": [
    "Question 4: Write a program to swap two numbers in Python without using a temporary variable."
   ]
  },
  {
   "cell_type": "code",
   "execution_count": 19,
   "metadata": {},
   "outputs": [
    {
     "name": "stdout",
     "output_type": "stream",
     "text": [
      "Enter first number10\n",
      "Enter second number15\n",
      "Before swaping the value of a is 10 and b is 15\n",
      "After swaping the value of a is  and b is  (15, 10)\n"
     ]
    }
   ],
   "source": [
    "def swap_number(a , b):\n",
    "    a = a+b\n",
    "    b = a-b\n",
    "    a = a-b\n",
    "    return a , b\n",
    "\n",
    "a = int(input(\"Enter first number\"))\n",
    "b = int(input(\"Enter second number\"))\n",
    "\n",
    "print(\"Before swaping the value of a is {} and b is {}\".format(a,b))\n",
    "print(\"After swaping the value of a is  and b is \",swap_number(a,b))\n",
    "    "
   ]
  },
  {
   "cell_type": "markdown",
   "metadata": {},
   "source": [
    "Question 5: Write a program to convert fahrenheit to kelvin and celsius both. "
   ]
  },
  {
   "cell_type": "code",
   "execution_count": 21,
   "metadata": {},
   "outputs": [
    {
     "name": "stdout",
     "output_type": "stream",
     "text": [
      "Enter the temperature in Fahrenheit98\n",
      "Farenheit 98 is Kelvin 309.8166666666667\n",
      "Farenheit 98 is Celsius 36.66666666666667\n"
     ]
    }
   ],
   "source": [
    "# K = (F + 459.67)(5/9)\n",
    "# C = (5/9)(F-32)\n",
    "\n",
    "F = int(input(\"Enter the temperature in Fahrenheit\"))\n",
    "\n",
    "K = (F + 459.67)*(5/9)\n",
    "C = (5/9)*(F-32)\n",
    "\n",
    "print(\"Farenheit {} is Kelvin {}\".format(F,K))\n",
    "print(\"Farenheit {} is Celsius {}\".format(F,C))"
   ]
  },
  {
   "cell_type": "markdown",
   "metadata": {},
   "source": [
    "Question 6: Write a program to demonstrate all the available data types in Python."
   ]
  },
  {
   "cell_type": "code",
   "execution_count": 37,
   "metadata": {},
   "outputs": [
    {
     "name": "stdout",
     "output_type": "stream",
     "text": [
      "<class 'str'>\n",
      "<class 'int'>\n",
      "<class 'float'>\n",
      "<class 'complex'>\n",
      "<class 'bool'>\n",
      "<class 'list'>\n",
      "<class 'tuple'>\n",
      "<class 'set'>\n",
      "<class 'dict'>\n",
      "<class 'range'>\n"
     ]
    }
   ],
   "source": [
    "a = \"Hello\"\n",
    "print(type(a))\n",
    "b = 2\n",
    "print(type(b))\n",
    "\n",
    "c = 3.5\n",
    "print(type(c))\n",
    "\n",
    "z = 2 + 4j\n",
    "print(type(z))\n",
    "\n",
    "print(type(True))\n",
    "\n",
    "l = [1,2,'hello']\n",
    "print(type(l))\n",
    "\n",
    "t = (1,2,3,4,5,'hello')\n",
    "print(type(t))\n",
    "\n",
    "s = {1 ,2,3,'hello',3.5}\n",
    "print(type(s))\n",
    "\n",
    "d = {'Id':101,\n",
    "     'Name':'John'\n",
    "      \n",
    "    }\n",
    "print(type(d))\n",
    "\n",
    "x = range(6)\n",
    "print(type(x))"
   ]
  },
  {
   "cell_type": "markdown",
   "metadata": {},
   "source": [
    "Question 7: Create a Markdown cell in jupyter and list the steps discussed in the session by Dr. Darshan Ingle sir."
   ]
  },
  {
   "cell_type": "markdown",
   "metadata": {},
   "source": [
    "1. IDLE interface\n",
    "2. Anaconda Navigator\n",
    "3. How to upload a project/assignment in github\n",
    "4. Difference between High lavel lenguage and low lavel language\n",
    "5. Advantges of Python\n",
    "6 .Built-in Modules present in python\n",
    "7. Different ways of printing out the output\n",
    "8. Useful links to install software related to Python"
   ]
  },
  {
   "cell_type": "code",
   "execution_count": null,
   "metadata": {},
   "outputs": [],
   "source": []
  }
 ],
 "metadata": {
  "kernelspec": {
   "display_name": "Python 3",
   "language": "python",
   "name": "python3"
  },
  "language_info": {
   "codemirror_mode": {
    "name": "ipython",
    "version": 3
   },
   "file_extension": ".py",
   "mimetype": "text/x-python",
   "name": "python",
   "nbconvert_exporter": "python",
   "pygments_lexer": "ipython3",
   "version": "3.7.4"
  }
 },
 "nbformat": 4,
 "nbformat_minor": 2
}
